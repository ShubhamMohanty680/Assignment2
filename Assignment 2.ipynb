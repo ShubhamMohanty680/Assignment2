{
 "cells": [
  {
   "cell_type": "markdown",
   "id": "f826485b",
   "metadata": {},
   "source": [
    "# Q.1"
   ]
  },
  {
   "cell_type": "code",
   "execution_count": 1,
   "id": "19b750a3",
   "metadata": {},
   "outputs": [
    {
     "name": "stdout",
     "output_type": "stream",
     "text": [
      "Enter Marks 80\n",
      "C\n"
     ]
    }
   ],
   "source": [
    "marks=int(input(\"Enter Marks \"))\n",
    "if marks>90:\n",
    "    print(\"A\")\n",
    "elif marks >80 and marks<=90:\n",
    "    print(\"B\")\n",
    "elif marks>=60 and marks<=80:\n",
    "    print(\"C\")\n",
    "else:\n",
    "    print(\"D\")"
   ]
  },
  {
   "cell_type": "markdown",
   "id": "7cf1405a",
   "metadata": {},
   "source": [
    "# Q.2"
   ]
  },
  {
   "cell_type": "code",
   "execution_count": 2,
   "id": "6346f39c",
   "metadata": {},
   "outputs": [
    {
     "name": "stdout",
     "output_type": "stream",
     "text": [
      "Enter Cost Price 5000\n",
      "Tax=5%\n"
     ]
    }
   ],
   "source": [
    "price=int(input(\"Enter Cost Price \"))\n",
    "if price>100000:\n",
    "    print(\"Tax=15%\")\n",
    "elif price>50000 and price<=100000:\n",
    "    print(\"Tax=10%\")\n",
    "else:\n",
    "    print(\"Tax=5%\")"
   ]
  },
  {
   "cell_type": "markdown",
   "id": "e9b12dbf",
   "metadata": {},
   "source": [
    "# Q.3"
   ]
  },
  {
   "cell_type": "code",
   "execution_count": 3,
   "id": "9b164637",
   "metadata": {},
   "outputs": [
    {
     "name": "stdout",
     "output_type": "stream",
     "text": [
      "Enter City Jaipur\n",
      "Jal Mahal\n"
     ]
    }
   ],
   "source": [
    "city=input(\"Enter City \")\n",
    "if city==\"Delhi\":\n",
    "    print(\"Red Fort\")\n",
    "elif city==\"Agra\":\n",
    "    print(\"Taj Mahal\")\n",
    "elif city==\"Jaipur\":\n",
    "    print(\"Jal Mahal\")"
   ]
  },
  {
   "cell_type": "markdown",
   "id": "f4d6a701",
   "metadata": {},
   "source": [
    "# Q.4"
   ]
  },
  {
   "cell_type": "code",
   "execution_count": 4,
   "id": "0e1a82dc",
   "metadata": {},
   "outputs": [
    {
     "name": "stdout",
     "output_type": "stream",
     "text": [
      "Enter Your Number30\n",
      "The Number can be divided  1 times\n"
     ]
    }
   ],
   "source": [
    "number=int(input(\"Enter Your Number\"))\n",
    "count = 0\n",
    "while number > 10:\n",
    "    number = number / 3\n",
    "    count += 1\n",
    "print(\"The Number can be divided \",count,\"times\")"
   ]
  },
  {
   "cell_type": "markdown",
   "id": "f01e98f7",
   "metadata": {},
   "source": [
    "# Q.5"
   ]
  },
  {
   "cell_type": "code",
   "execution_count": 1,
   "id": "4cb46c55",
   "metadata": {},
   "outputs": [
    {
     "name": "stdout",
     "output_type": "stream",
     "text": [
      "55\n"
     ]
    }
   ],
   "source": [
    "# A while loop in Python is used to repeatedly execute a block of code as long as a certain condition is met(True).\n",
    "# The loop will keep running as long as the condition is True,and will exit when the condition becomes False.\n",
    "\n",
    "#The general syntax of a while loop in Python:\n",
    "# while condition:\n",
    "#      Statements(Code to be executed)\n",
    "\n",
    "# Here's an example that demonstrates the use of a while loop:\n",
    "# Print the sum of numbers from 1 to 10\n",
    "sum=0\n",
    "number=1\n",
    "while number <= 10:\n",
    "    sum=sum+number\n",
    "    number += 1\n",
    "print(sum)\n",
    "\n",
    "# In this example, the while loop will run as long as the value of number is less than or equal to 10.\n",
    "# On each iteration of the loop, the value of number is incremented by 1.\n",
    "# The loop will exit when the value of counter becomes greater than 10.\n",
    "#Finally the sum of the numbers from 1 to 10 will be printed.\n",
    "\n",
    "# The while loop is useful when you don't know in advance how many times."
   ]
  },
  {
   "cell_type": "markdown",
   "id": "712bcbeb",
   "metadata": {},
   "source": [
    "# Q.6"
   ]
  },
  {
   "cell_type": "code",
   "execution_count": 7,
   "id": "f72669f2",
   "metadata": {},
   "outputs": [
    {
     "name": "stdout",
     "output_type": "stream",
     "text": [
      "5\n",
      "11111\n",
      "22222\n",
      "33333\n",
      "44444\n",
      "55555\n"
     ]
    }
   ],
   "source": [
    "#Pattern 1\n",
    "\n",
    "N=int(input()) #Take user input, N= Number of Rows\n",
    "row=1; #The loop starts with the 1st row\n",
    "while row<=N: #Loop will on for N rows\n",
    "    col=1; #The loop starts with the first column in the current row\n",
    "    while col<=N: #Loop will on for N columns\n",
    "        print(row,end=\"\") #Printing rows in all columns\n",
    "        col=col+1 #Increment the current column (Inner Loop)\n",
    "    row=row+1 #Increment the current row (Outer Loop)\n",
    "    print() #Add a new Line after each row is printed"
   ]
  },
  {
   "cell_type": "code",
   "execution_count": 9,
   "id": "7325e1f4",
   "metadata": {},
   "outputs": [
    {
     "name": "stdout",
     "output_type": "stream",
     "text": [
      "5\n",
      "1\n",
      "22\n",
      "333\n",
      "4444\n",
      "55555\n"
     ]
    }
   ],
   "source": [
    "#Pattern 2\n",
    "\n",
    "N=int(input()) #Take user input, N= Number of Rows\n",
    "row=1; #The loop starts with the 1st row\n",
    "while row<=N: #Loop will on for N rows\n",
    "    col=1; #The loop starts with the first column in the current row\n",
    "    while col<=row: # Number of cols = The row number\n",
    "        print(row,end=\"\") #Printing the row number in all columns\n",
    "        col=col+1 #Increment the current column (Inner Loop)\n",
    "    row=row+1 #Increment the current row (Outer Loop)\n",
    "    print() #Add a new Line after each row"
   ]
  },
  {
   "cell_type": "code",
   "execution_count": 10,
   "id": "8324431e",
   "metadata": {},
   "outputs": [
    {
     "name": "stdout",
     "output_type": "stream",
     "text": [
      "5\n",
      "*****\n",
      "****\n",
      "***\n",
      "**\n",
      "*\n"
     ]
    }
   ],
   "source": [
    "#Pattern 3\n",
    "\n",
    "n=int(input())#Taking user input\n",
    "i=n#the loop starts the value of n to first row\n",
    "while(i>0):#It will be executed till value of i is greater than 0\n",
    "    j=1    #No. of column=1\n",
    "    while(j<=i):#rows<=columns\n",
    "        print(\"*\",end=\"\")#Now printing(\"*\") in every row\n",
    "        j=j+1         #Columns are incremented by 1\n",
    "    print()           #Now printing() in columnwise\n",
    "    i=i-1             #Decrementing the vlaue of row by 1"
   ]
  },
  {
   "cell_type": "markdown",
   "id": "c7886bad",
   "metadata": {},
   "source": [
    "# Q.7"
   ]
  },
  {
   "cell_type": "code",
   "execution_count": 13,
   "id": "ae46f5d6",
   "metadata": {},
   "outputs": [
    {
     "name": "stdout",
     "output_type": "stream",
     "text": [
      "10\n",
      "9\n",
      "8\n",
      "7\n",
      "6\n",
      "5\n",
      "4\n",
      "3\n",
      "2\n",
      "1\n"
     ]
    }
   ],
   "source": [
    "start=10\n",
    "end=1\n",
    "while start>=end:\n",
    "    print(start)\n",
    "    start=start-1"
   ]
  },
  {
   "cell_type": "markdown",
   "id": "d29fec58",
   "metadata": {},
   "source": [
    "# Q.8"
   ]
  },
  {
   "cell_type": "code",
   "execution_count": 14,
   "id": "3f9af378",
   "metadata": {},
   "outputs": [
    {
     "name": "stdout",
     "output_type": "stream",
     "text": [
      "10\n",
      "9\n",
      "8\n",
      "7\n",
      "6\n",
      "5\n",
      "4\n",
      "3\n",
      "2\n",
      "1\n"
     ]
    }
   ],
   "source": [
    "start=10\n",
    "end=1\n",
    "while start>=end:\n",
    "    print(start)\n",
    "    start=start-1"
   ]
  },
  {
   "cell_type": "code",
   "execution_count": null,
   "id": "7715485d",
   "metadata": {},
   "outputs": [],
   "source": []
  }
 ],
 "metadata": {
  "kernelspec": {
   "display_name": "Python 3 (ipykernel)",
   "language": "python",
   "name": "python3"
  },
  "language_info": {
   "codemirror_mode": {
    "name": "ipython",
    "version": 3
   },
   "file_extension": ".py",
   "mimetype": "text/x-python",
   "name": "python",
   "nbconvert_exporter": "python",
   "pygments_lexer": "ipython3",
   "version": "3.9.12"
  }
 },
 "nbformat": 4,
 "nbformat_minor": 5
}
